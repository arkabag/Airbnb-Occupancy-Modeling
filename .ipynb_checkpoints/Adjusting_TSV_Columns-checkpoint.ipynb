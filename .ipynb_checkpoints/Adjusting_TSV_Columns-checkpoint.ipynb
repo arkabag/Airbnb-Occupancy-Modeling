{
 "cells": [
  {
   "cell_type": "code",
   "execution_count": 1,
   "id": "cd8c0e03",
   "metadata": {},
   "outputs": [
    {
     "name": "stderr",
     "output_type": "stream",
     "text": [
      "Setting default log level to \"WARN\".\n",
      "To adjust logging level use sc.setLogLevel(newLevel). For SparkR, use setLogLevel(newLevel).\n",
      "23/10/13 13:45:38 WARN NativeCodeLoader: Unable to load native-hadoop library for your platform... using builtin-java classes where applicable\n"
     ]
    }
   ],
   "source": [
    "from pyspark.sql import SparkSession\n",
    "\n",
    "spark = SparkSession.builder.appName(\"AirDNA\").getOrCreate()\n"
   ]
  },
  {
   "cell_type": "code",
   "execution_count": 2,
   "id": "50cf52a2",
   "metadata": {},
   "outputs": [
    {
     "name": "stderr",
     "output_type": "stream",
     "text": [
      "                                                                                \r"
     ]
    }
   ],
   "source": [
    "tsv_file_path = \"/Users/arka_bagchi/Desktop/AirDNA/Raw_data/Modified_AirDNA_Dataset.tsv\"\n",
    "\n",
    "df = spark.read.option(\"delimiter\", \"\\t\").csv(tsv_file_path, header=True, inferSchema=True)\n"
   ]
  },
  {
   "cell_type": "code",
   "execution_count": 3,
   "id": "2c780d55",
   "metadata": {},
   "outputs": [
    {
     "name": "stdout",
     "output_type": "stream",
     "text": [
      "root\n",
      " |-- Longitude: double (nullable = true)\n",
      " |-- Has Parking: string (nullable = true)\n",
      " |-- Cancellation Policy: string (nullable = true)\n",
      " |-- Airbnb Communication Rating: string (nullable = true)\n",
      " |-- Has Hot Tub: string (nullable = true)\n",
      " |-- Country: string (nullable = true)\n",
      " |-- City: string (nullable = true)\n",
      " |-- Bedrooms: string (nullable = true)\n",
      " |-- Airbnb Accuracy Rating: string (nullable = true)\n",
      " |-- Published Weekly Rate: string (nullable = true)\n",
      " |-- Neighborhood: string (nullable = true)\n",
      " |-- Airbnb Location Rating: string (nullable = true)\n",
      " |-- AirDNA Market: string (nullable = true)\n",
      " |-- ADR: string (nullable = true)\n",
      " |-- VRBO Property ID: string (nullable = true)\n",
      " |-- Response Rate: string (nullable = true)\n",
      " |-- Published Monthly Rate: string (nullable = true)\n",
      " |-- Pets Allowed: string (nullable = true)\n",
      " |-- Occupancy Rate LTM: string (nullable = true)\n",
      " |-- Max Guests: string (nullable = true)\n",
      " |-- Listing Type: string (nullable = true)\n",
      " |-- Host Type: string (nullable = true)\n",
      " |-- Has Pool: string (nullable = true)\n",
      " |-- Created Date: string (nullable = true)\n",
      " |-- Bathrooms: string (nullable = true)\n",
      " |-- Property ID: string (nullable = true)\n",
      " |-- Overall Rating: string (nullable = true)\n",
      " |-- Minimum Stay: string (nullable = true)\n",
      " |-- Location Type: string (nullable = true)\n",
      " |-- License: string (nullable = true)\n",
      " |-- Exact Location: string (nullable = true)\n",
      " |-- Cleaning Fee: string (nullable = true)\n",
      " |-- Price Tier: string (nullable = true)\n",
      " |-- Listing URL: string (nullable = true)\n",
      " |-- Has Kitchen: string (nullable = true)\n",
      " |-- Currency: string (nullable = true)\n",
      " |-- Count Reservation Days LTM: string (nullable = true)\n",
      " |-- Airbnb Checkin Rating: string (nullable = true)\n",
      " |-- Response Time: double (nullable = true)\n",
      " |-- Property Manager: string (nullable = true)\n",
      " |-- Number of Reviews: string (nullable = true)\n",
      " |-- Number of Photos: string (nullable = true)\n",
      " |-- Number of Bookings LTM: string (nullable = true)\n",
      " |-- Latitude: double (nullable = true)\n",
      " |-- Extra People Fee: double (nullable = true)\n",
      " |-- Count Blocked Days LTM: double (nullable = true)\n",
      " |-- Count Available Days LTM: string (nullable = true)\n",
      " |-- Zipcode: integer (nullable = true)\n",
      "\n"
     ]
    }
   ],
   "source": [
    "df.printSchema()\n"
   ]
  },
  {
   "cell_type": "code",
   "execution_count": 4,
   "id": "71b4c39d",
   "metadata": {},
   "outputs": [
    {
     "name": "stderr",
     "output_type": "stream",
     "text": [
      "23/10/13 13:46:20 WARN SparkStringUtils: Truncated the string representation of a plan since it was too large. This behavior can be adjusted by setting 'spark.sql.debug.maxToStringFields'.\n"
     ]
    },
    {
     "name": "stdout",
     "output_type": "stream",
     "text": [
      "+---------------+-----------+-------------------+---------------------------+-----------+-------------+--------------+--------+----------------------+---------------------+---------------+----------------------+--------------------+------+----------------+-------------+----------------------+------------+------------------+----------+---------------+----------+--------+------------+---------+-------------+--------------+------------+--------------------+-------+--------------+------------+----------+--------------------+-----------+--------+--------------------------+---------------------+-------------+----------------+-----------------+----------------+----------------------+-------------+----------------+----------------------+------------------------+-------+\n",
      "|      Longitude|Has Parking|Cancellation Policy|Airbnb Communication Rating|Has Hot Tub|      Country|          City|Bedrooms|Airbnb Accuracy Rating|Published Weekly Rate|   Neighborhood|Airbnb Location Rating|       AirDNA Market|   ADR|VRBO Property ID|Response Rate|Published Monthly Rate|Pets Allowed|Occupancy Rate LTM|Max Guests|   Listing Type| Host Type|Has Pool|Created Date|Bathrooms|  Property ID|Overall Rating|Minimum Stay|       Location Type|License|Exact Location|Cleaning Fee|Price Tier|         Listing URL|Has Kitchen|Currency|Count Reservation Days LTM|Airbnb Checkin Rating|Response Time|Property Manager|Number of Reviews|Number of Photos|Number of Bookings LTM|     Latitude|Extra People Fee|Count Blocked Days LTM|Count Available Days LTM|Zipcode|\n",
      "+---------------+-----------+-------------------+---------------------------+-----------+-------------+--------------+--------+----------------------+---------------------+---------------+----------------------+--------------------+------+----------------+-------------+----------------------+------------+------------------+----------+---------------+----------+--------+------------+---------+-------------+--------------+------------+--------------------+-------+--------------+------------+----------+--------------------+-----------+--------+--------------------------+---------------------+-------------+----------------+-----------------+----------------+----------------------+-------------+----------------+----------------------+------------------------+-------+\n",
      "|      -80.21537|       true|             strict|                         10|      false|United States|         Miami|       5|                    10|                 2093|      Coral Way|                    10|           MIAMI, FL|536.79|       7863000ha|          100|                  8372|       false|          0.273885|        10|Entire home/apt| 2-5 Units|   false|  2015-12-14|      2.0|abnb_10000216|          NULL|           4|  Large City - Urban|   NULL|          NULL|         249|   economy|https://www.airbn...|       true|     usd|                        43|                   10|        117.5|            NULL|               86|              20|                     7|      25.7651|             0.0|                  46.0|                     114|  33135|\n",
      "|     -122.34761|      false|           flexible|                          9|      false|United States|       Seattle|       2|                    10|                 1750|     Queen Anne|                    10|         SEATTLE, WA|  NULL|            NULL|          100|                  7000|       false|              NULL|         5|Entire home/apt| 2-5 Units|   false|  2015-12-14|      2.0|abnb_10000273|          97.0|         180|  Large City - Urban|   NULL|          NULL|          75|   economy|https://www.airbn...|       true|     usd|                      NULL|                   10|       1054.5|            NULL|                8|              23|                  NULL|     47.62556|             0.0|                  NULL|                    NULL|  98109|\n",
      "|      -122.4409|      false|             strict|                         10|      false|United States| San Francisco|       1|                    10|                  525|     The Castro|                    10|   SAN FRANCISCO, CA|150.38|            NULL|          100|                  2100|        true|          0.521739|         1|   Private room| 2-5 Units|   false|  2015-12-14|      1.0|abnb_10000523|          97.0|          30|  Large City - Urban|   NULL|          NULL|         200|  midscale|https://www.airbn...|       true|     usd|                        24|                   10|      14141.0|            NULL|               19|              40|                     7|     37.75709|            25.0|                 255.0|                      22|  94114|\n",
      "|-121.9054145417|       true|           flexible|                         10|      false|United States|  Rhododendron|       1|                    10|                  175|           NULL|                    10|         OREGON AREA|  NULL|            NULL|          100|                   700|       false|              NULL|         1|    Shared room| 21+ Units|   false|  2015-12-14|      1.0|abnb_10000550|          96.0|           1|Destination/Resor...|   NULL|          NULL|        NULL|    budget|https://www.airbn...|       true|     usd|                      NULL|                   10|        404.0|            NULL|               31|               9|                  NULL|45.3249452151|             0.0|                  NULL|                    NULL|  97049|\n",
      "| -84.3839370059|       true|               NULL|                         10|      false|United States|       Atlanta|       1|                     8|                 2100|        Midtown|                    10|         ATLANTA, GA|  NULL|            NULL|           80|                  8400|        true|              NULL|         2|   Private room| 21+ Units|   false|  2015-12-14|      1.5|abnb_10000707|          87.0|           1|  Large City - Urban|   NULL|          NULL|         100|    luxury|https://www.airbn...|       true|     usd|                      NULL|                   10|       4778.0|         StayATL|               21|              10|                  NULL| 33.778656074|            50.0|                  NULL|                    NULL|  30309|\n",
      "|     -112.43496|       true|             strict|                         10|      false|United States|      Surprise|       5|                    10|                 2100|           NULL|                    10|PHOENIX/SCOTTSDAL...|326.43|            NULL|           80|                  8400|       false|            0.8125|        12|Entire home/apt| 2-5 Units|    true|  2015-12-14|      3.5|abnb_10000726|          97.0|           3|Large City - Subu...|   NULL|          NULL|         245|    budget|https://www.airbn...|       true|     usd|                        91|                   10|          0.5|            NULL|               49|              16|                    10|     33.63348|             0.0|                 113.0|                      21|  85388|\n",
      "| -80.1925615792|       true|             strict|                         10|       true|United States|         Miami|       2|                    10|                 2450| Downtown Miami|                    10|           MIAMI, FL|  NULL|            NULL|          100|                  9800|       false|              NULL|         4|Entire home/apt|    1 Unit|    true|  2015-12-14|      2.0|abnb_10000928|         100.0|           2|  Large City - Urban|   NULL|          NULL|         180|  midscale|https://www.airbn...|       true|     usd|                      NULL|                   10|      20102.5|            NULL|                3|              25|                  NULL|25.7708242479|             0.0|                  NULL|                    NULL|  33131|\n",
      "|       -73.9233|      false|           flexible|                       NULL|      false|United States|      New York|       1|                  NULL|                  735|        Astoria|                  NULL|        NEW YORK, NY|   0.0|       4328129ha|           33|                  2940|       false|               0.0|         4|Entire home/apt|    1 Unit|   false|  2015-12-14|      1.0|abnb_10001022|          NULL|          30|  Large City - Urban|   NULL|          NULL|           0|      NULL|https://www.airbn...|       true|     usd|                         0|                 NULL|      86400.0|            NULL|                0|               6|                     0|     40.76074|             0.0|                 365.0|                       0|  11106|\n",
      "|-122.7236495401|       true|           flexible|                       NULL|      false|United States|     Lagunitas|       1|                  NULL|                  525|           NULL|                  NULL|   SAN FRANCISCO, CA|  NULL|            NULL|           95|                  2100|       false|              NULL|         4|Entire home/apt| 21+ Units|   false|  2015-12-14|      1.0|abnb_10001243|          NULL|           1|Large City - Subu...|   NULL|          NULL|          50|    budget|https://www.airbn...|      false|     usd|                      NULL|                 NULL|       5430.0|            NULL|             NULL|              10|                  NULL|38.0176707376|            25.0|                  NULL|                    NULL|  94938|\n",
      "|  -74.008689456|      false|             strict|                         10|      false|United States|      New York|       1|                    10|                 1575|      Manhattan|                    10|        NEW YORK, NY|  NULL|            NULL|           88|                  6300|       false|              NULL|         5|Entire home/apt| 2-5 Units|   false|  2015-12-14|      1.0|abnb_10001286|          96.0|           5|  Large City - Urban|   NULL|          NULL|         100|    luxury|https://www.airbn...|       true|     usd|                      NULL|                   10|      45314.0|            NULL|               10|              15|                  NULL|40.7109223884|             0.0|                  NULL|                    NULL|  10038|\n",
      "|      -95.39544|       true|             strict|                         10|      false|United States|       Houston|       1|                     9|                  500|           NULL|                    10|         HOUSTON, TX|  65.0|            NULL|           75|                  2000|       false|               0.7|         2|Entire home/apt| 2-5 Units|    true|  2015-12-14|      1.0|abnb_10001316|          93.0|          30|  Large City - Urban|   NULL|          NULL|           0|    budget|https://www.airbn...|       true|     usd|                        35|                   10|        306.0|            NULL|               57|              16|                     2|     29.69496|            80.0|                 254.0|                      15|  77054|\n",
      "|-118.3369452379|       true|             strict|                         10|       true|United States|   Los Angeles|       2|                    10|                 1200|Hollywood Hills|                     9|     LOS ANGELES, CA|  NULL|            NULL|          100|                  4800|       false|              NULL|         2|Entire home/apt|    1 Unit|    true|  2015-12-14|      2.0|abnb_10001611|          93.0|           3|  Large City - Urban|   NULL|          NULL|          75|   economy|https://www.airbn...|       true|     usd|                      NULL|                   10|       8103.0|            NULL|                4|              33|                  NULL|34.1081496897|             0.0|                  NULL|                    NULL|  90068|\n",
      "| -118.296849381|       true|           flexible|                       NULL|      false|United States|   Los Angeles|       2|                  NULL|                  903|      Koreatown|                  NULL|     LOS ANGELES, CA|  NULL|            NULL|         NULL|                  3612|       false|              NULL|         4|Entire home/apt| 2-5 Units|   false|  2015-12-14|      1.0|abnb_10002315|          NULL|           1|  Large City - Urban|   NULL|          NULL|          49|      NULL|https://www.airbn...|       true|     usd|                      NULL|                 NULL|         NULL|            NULL|             NULL|              38|                  NULL|34.0705033802|             0.0|                  NULL|                    NULL|  90004|\n",
      "| -71.0665602217|      false|           flexible|                       NULL|      false|United States|        Boston|       2|                  NULL|                 2240|       West End|                  NULL|          BOSTON, MA|  NULL|            NULL|         NULL|                  8960|       false|              NULL|         4|Entire home/apt|    1 Unit|   false|  2015-12-14|      2.0|abnb_10002366|          NULL|           1|  Large City - Urban|   NULL|          NULL|         100|      NULL|https://www.airbn...|       true|     usd|                      NULL|                 NULL|         NULL|            NULL|             NULL|               1|                  NULL|42.3665413305|             0.0|                  NULL|                    NULL|   2114|\n",
      "| -110.907324968|       true|             strict|                       NULL|       true|United States|        Tucson|       2|                  NULL|                  903|           NULL|                  NULL|          TUSCON, AZ|  NULL|            NULL|           89|                  3612|       false|              NULL|         5|Entire home/apt| 21+ Units|    true|  2015-12-14|      1.0|abnb_10003017|          NULL|           2|       Mid-Size City|   NULL|          NULL|         150|    luxury|https://www.airbn...|       true|     usd|                      NULL|                 NULL|      18493.0|          Evolve|             NULL|              24|                  NULL|32.2352527673|             0.0|                  NULL|                    NULL|  85711|\n",
      "| -73.9494881064|      false|             strict|                          9|      false|United States|      New York|       1|                     9|                 1650|      Manhattan|                     8|        NEW YORK, NY|  NULL|            NULL|           50|                  4800|       false|              NULL|         5|Entire home/apt|    1 Unit|   false|  2013-03-14|      1.0| abnb_1000310|          86.0|           1|  Large City - Urban|   NULL|          NULL|         100|    luxury|https://www.airbn...|       true|     usd|                      NULL|                    9|      81846.5|            NULL|               20|              18|                  NULL|40.8267636735|            25.0|                  NULL|                    NULL|  10031|\n",
      "| -75.9785810563|       true|             strict|                         10|       true|United States|Virginia Beach|       1|                    10|                  504|           NULL|                    10|NORFOLK/VA BEACH, VA|  NULL|            NULL|           87|                  2016|       false|              NULL|         2|   Private room|6-20 Units|    true|  2015-12-14|      1.0|abnb_10003146|         100.0|          30|Destination/Resor...|   NULL|          NULL|        NULL|  midscale|https://www.airbn...|       true|     usd|                      NULL|                   10|       6240.0|            NULL|                2|               7|                  NULL|36.7770295016|             0.0|                  NULL|                    NULL|  23454|\n",
      "|-117.7198914624|       true|             strict|                       NULL|      false|United States|    Dana Point|       3|                  NULL|                 4900|           NULL|                  NULL|         ANAHEIM, CA|  NULL|            NULL|           68|                 19600|        true|              NULL|        11|Entire home/apt| 21+ Units|   false|  2015-12-14|      3.5|abnb_10004299|          NULL|           1|Destination/Resor...|   NULL|          NULL|         150|    luxury|https://www.airbn...|       true|     usd|                      NULL|                 NULL|      30693.0|            NULL|             NULL|              19|                  NULL|33.4799190118|            50.0|                  NULL|                    NULL|  92629|\n",
      "| -74.0076809501|      false|           flexible|                       NULL|      false|United States|      New York|       1|                  NULL|                  336|      Manhattan|                  NULL|        NEW YORK, NY|  NULL|            NULL|         NULL|                  1344|       false|              NULL|         1|    Shared room| 2-5 Units|   false|  2015-12-14|      1.0|abnb_10005386|          NULL|           1|  Large City - Urban|   NULL|          NULL|        NULL|      NULL|https://www.airbn...|       true|     usd|                      NULL|                 NULL|         NULL|            NULL|             NULL|               3|                  NULL|40.7101289719|            NULL|                  NULL|                    NULL|  10038|\n",
      "| -77.0059044741|       true|           moderate|                       NULL|      false|United States|       Newport|       4|                  NULL|                  525|           NULL|                  NULL|MOREHEAD CITY/EME...|  NULL|            NULL|          100|                  2100|       false|              NULL|         8|Entire home/apt| 2-5 Units|    true|  2015-12-14|      2.0|abnb_10005623|          NULL|           5|Destination/Resor...|   NULL|          NULL|        NULL|    budget|https://www.airbn...|       true|     usd|                      NULL|                 NULL|      48242.0|            NULL|                1|              18|                  NULL|34.7034371404|             0.0|                  NULL|                    NULL|  28570|\n",
      "+---------------+-----------+-------------------+---------------------------+-----------+-------------+--------------+--------+----------------------+---------------------+---------------+----------------------+--------------------+------+----------------+-------------+----------------------+------------+------------------+----------+---------------+----------+--------+------------+---------+-------------+--------------+------------+--------------------+-------+--------------+------------+----------+--------------------+-----------+--------+--------------------------+---------------------+-------------+----------------+-----------------+----------------+----------------------+-------------+----------------+----------------------+------------------------+-------+\n",
      "only showing top 20 rows\n",
      "\n"
     ]
    }
   ],
   "source": [
    "df.show()\n"
   ]
  },
  {
   "cell_type": "code",
   "execution_count": 5,
   "id": "85a28c1d",
   "metadata": {},
   "outputs": [
    {
     "name": "stderr",
     "output_type": "stream",
     "text": [
      "                                                                                \r"
     ]
    },
    {
     "name": "stdout",
     "output_type": "stream",
     "text": [
      "root\n",
      " |-- Longitude: double (nullable = true)\n",
      " |-- Has Parking: string (nullable = true)\n",
      " |-- Cancellation Policy: string (nullable = true)\n",
      " |-- Airbnb Communication Rating: string (nullable = true)\n",
      " |-- Has Hot Tub: string (nullable = true)\n",
      " |-- Country: string (nullable = true)\n",
      " |-- City: string (nullable = true)\n",
      " |-- Bedrooms: string (nullable = true)\n",
      " |-- Airbnb Accuracy Rating: string (nullable = true)\n",
      " |-- Published Weekly Rate: string (nullable = true)\n",
      " |-- Neighborhood: string (nullable = true)\n",
      " |-- Airbnb Location Rating: string (nullable = true)\n",
      " |-- AirDNA Market: string (nullable = true)\n",
      " |-- ADR: string (nullable = true)\n",
      " |-- VRBO Property ID: string (nullable = true)\n",
      " |-- Response Rate: string (nullable = true)\n",
      " |-- Published Monthly Rate: string (nullable = true)\n",
      " |-- Pets Allowed: string (nullable = true)\n",
      " |-- Occupancy Rate LTM: string (nullable = true)\n",
      " |-- Max Guests: integer (nullable = true)\n",
      " |-- Listing Type: string (nullable = true)\n",
      " |-- Host Type: string (nullable = true)\n",
      " |-- Has Pool: string (nullable = true)\n",
      " |-- Created Date: string (nullable = true)\n",
      " |-- Bathrooms: string (nullable = true)\n",
      " |-- Property ID: string (nullable = true)\n",
      " |-- Overall Rating: string (nullable = true)\n",
      " |-- Minimum Stay: string (nullable = true)\n",
      " |-- Location Type: string (nullable = true)\n",
      " |-- License: string (nullable = true)\n",
      " |-- Exact Location: string (nullable = true)\n",
      " |-- Cleaning Fee: string (nullable = true)\n",
      " |-- Price Tier: string (nullable = true)\n",
      " |-- Listing URL: string (nullable = true)\n",
      " |-- Has Kitchen: string (nullable = true)\n",
      " |-- Currency: string (nullable = true)\n",
      " |-- Count Reservation Days LTM: string (nullable = true)\n",
      " |-- Airbnb Checkin Rating: string (nullable = true)\n",
      " |-- Response Time: double (nullable = true)\n",
      " |-- Property Manager: string (nullable = true)\n",
      " |-- Number of Reviews: string (nullable = true)\n",
      " |-- Number of Photos: string (nullable = true)\n",
      " |-- Number of Bookings LTM: string (nullable = true)\n",
      " |-- Latitude: double (nullable = true)\n",
      " |-- Extra People Fee: double (nullable = true)\n",
      " |-- Count Blocked Days LTM: double (nullable = true)\n",
      " |-- Count Available Days LTM: string (nullable = true)\n",
      " |-- Zipcode: integer (nullable = true)\n",
      "\n"
     ]
    },
    {
     "name": "stderr",
     "output_type": "stream",
     "text": [
      "                                                                                \r"
     ]
    }
   ],
   "source": [
    "from pyspark.sql import SparkSession\n",
    "from pyspark.sql.functions import col, when\n",
    "from pyspark.sql.types import IntegerType\n",
    "\n",
    "# Initialize Spark session\n",
    "spark = SparkSession.builder.appName(\"AirDNA\").getOrCreate()\n",
    "\n",
    "# Load the TSV file with the correct delimiter\n",
    "tsv_file_path = \"/Users/arka_bagchi/Desktop/AirDNA/Raw_data/Modified_AirDNA_Dataset.tsv\"\n",
    "df = spark.read.option(\"delimiter\", \"\\t\").csv(tsv_file_path, header=True, inferSchema=True)\n",
    "\n",
    "# Step 1: Replace \"NULL\" with actual NULL values\n",
    "df = df.replace(\"NULL\", None)\n",
    "\n",
    "# Step 2: Correct data types (example: convert columns to integer)\n",
    "df = df.withColumn(\"Max Guests\", col(\"Max Guests\").cast(IntegerType()))\n",
    "\n",
    "# Inspect the schema to check data types\n",
    "df.printSchema()\n",
    "\n",
    "# Step 3: Save the cleaned data to a new TSV file\n",
    "output_file_path = \"/Users/arka_bagchi/Desktop/AirDNA/cleaned_data.tsv\"\n",
    "df.write.option(\"delimiter\", \"\\t\").csv(output_file_path, header=True)\n",
    "\n",
    "# Stop the Spark session\n",
    "spark.stop()\n"
   ]
  },
  {
   "cell_type": "code",
   "execution_count": 9,
   "id": "2c0a1308",
   "metadata": {},
   "outputs": [
    {
     "name": "stderr",
     "output_type": "stream",
     "text": [
      "                                                                                \r"
     ]
    },
    {
     "name": "stdout",
     "output_type": "stream",
     "text": [
      "root\n",
      " |-- Longitude: double (nullable = true)\n",
      " |-- Has Parking: string (nullable = true)\n",
      " |-- Cancellation Policy: string (nullable = true)\n",
      " |-- Airbnb Communication Rating: string (nullable = true)\n",
      " |-- Has Hot Tub: string (nullable = true)\n",
      " |-- Country: string (nullable = true)\n",
      " |-- City: string (nullable = true)\n",
      " |-- Bedrooms: string (nullable = true)\n",
      " |-- Airbnb Accuracy Rating: string (nullable = true)\n",
      " |-- Published Weekly Rate: string (nullable = true)\n",
      " |-- Neighborhood: string (nullable = true)\n",
      " |-- Airbnb Location Rating: string (nullable = true)\n",
      " |-- AirDNA Market: string (nullable = true)\n",
      " |-- ADR: string (nullable = true)\n",
      " |-- VRBO Property ID: string (nullable = true)\n",
      " |-- Response Rate: string (nullable = true)\n",
      " |-- Published Monthly Rate: string (nullable = true)\n",
      " |-- Pets Allowed: string (nullable = true)\n",
      " |-- Occupancy Rate LTM: string (nullable = true)\n",
      " |-- Max Guests: integer (nullable = true)\n",
      " |-- Listing Type: string (nullable = true)\n",
      " |-- Host Type: string (nullable = true)\n",
      " |-- Has Pool: string (nullable = true)\n",
      " |-- Created Date: string (nullable = true)\n",
      " |-- Bathrooms: string (nullable = true)\n",
      " |-- Property ID: string (nullable = true)\n",
      " |-- Overall Rating: string (nullable = true)\n",
      " |-- Minimum Stay: string (nullable = true)\n",
      " |-- Location Type: string (nullable = true)\n",
      " |-- License: string (nullable = true)\n",
      " |-- Exact Location: string (nullable = true)\n",
      " |-- Cleaning Fee: string (nullable = true)\n",
      " |-- Price Tier: string (nullable = true)\n",
      " |-- Listing URL: string (nullable = true)\n",
      " |-- Has Kitchen: string (nullable = true)\n",
      " |-- Currency: string (nullable = true)\n",
      " |-- Count Reservation Days LTM: string (nullable = true)\n",
      " |-- Airbnb Checkin Rating: string (nullable = true)\n",
      " |-- Response Time: double (nullable = true)\n",
      " |-- Property Manager: string (nullable = true)\n",
      " |-- Number of Reviews: string (nullable = true)\n",
      " |-- Number of Photos: string (nullable = true)\n",
      " |-- Number of Bookings LTM: string (nullable = true)\n",
      " |-- Latitude: double (nullable = true)\n",
      " |-- Extra People Fee: double (nullable = true)\n",
      " |-- Count Blocked Days LTM: double (nullable = true)\n",
      " |-- Count Available Days LTM: string (nullable = true)\n",
      " |-- Zipcode: integer (nullable = true)\n",
      "\n"
     ]
    },
    {
     "name": "stderr",
     "output_type": "stream",
     "text": [
      "                                                                                \r"
     ]
    }
   ],
   "source": [
    "from pyspark.sql import SparkSession\n",
    "from pyspark.sql.functions import col\n",
    "from pyspark.sql.types import IntegerType\n",
    "\n",
    "# Initialize Spark session\n",
    "spark = SparkSession.builder.appName(\"AirDNA\").getOrCreate()\n",
    "\n",
    "# Load the TSV file with the correct delimiter\n",
    "tsv_file_path = \"/Users/arka_bagchi/Desktop/AirDNA/Raw_data/Modified_AirDNA_Dataset.tsv\"\n",
    "df = spark.read.option(\"delimiter\", \"\\t\").csv(tsv_file_path, header=True, inferSchema=True)\n",
    "\n",
    "# Step 1: Replace \"NULL\" with actual NULL values\n",
    "df = df.replace(\"NULL\", None)\n",
    "\n",
    "# Step 2: Correct data types (example: convert columns to integer)\n",
    "df = df.withColumn(\"Max Guests\", col(\"Max Guests\").cast(IntegerType()))\n",
    "\n",
    "# Inspect the schema to check data types\n",
    "df.printSchema()\n",
    "\n",
    "# Reduce the number of partitions to 1\n",
    "df = df.coalesce(1)\n",
    "\n",
    "# Step 3: Save the cleaned data to a single TSV file\n",
    "output_file_path = \"/Users/arka_bagchi/Desktop/AirDNA/Raw_data/cleaned_data_v2.tsv\"\n",
    "df.write.option(\"delimiter\", \"\\t\").csv(output_file_path, header=True, mode=\"overwrite\")\n",
    "\n",
    "# Stop the Spark session\n",
    "spark.stop()\n"
   ]
  },
  {
   "cell_type": "code",
   "execution_count": 1,
   "id": "7a4cbb33",
   "metadata": {},
   "outputs": [
    {
     "name": "stdout",
     "output_type": "stream",
     "text": [
      "Collecting psycopg2\n",
      "  Downloading psycopg2-2.9.9.tar.gz (384 kB)\n",
      "\u001b[2K     \u001b[90m━━━━━━━━━━━━━━━━━━━━━━━━━━━━━━━━━━━━━━━\u001b[0m \u001b[32m384.9/384.9 kB\u001b[0m \u001b[31m1.5 MB/s\u001b[0m eta \u001b[36m0:00:00\u001b[0ma \u001b[36m0:00:01\u001b[0m\n",
      "\u001b[?25h  Preparing metadata (setup.py) ... \u001b[?25ldone\n",
      "\u001b[?25hBuilding wheels for collected packages: psycopg2\n",
      "  Building wheel for psycopg2 (setup.py) ... \u001b[?25lerror\n",
      "  \u001b[1;31merror\u001b[0m: \u001b[1msubprocess-exited-with-error\u001b[0m\n",
      "  \n",
      "  \u001b[31m×\u001b[0m \u001b[32mpython setup.py bdist_wheel\u001b[0m did not run successfully.\n",
      "  \u001b[31m│\u001b[0m exit code: \u001b[1;36m1\u001b[0m\n",
      "  \u001b[31m╰─>\u001b[0m \u001b[31m[33 lines of output]\u001b[0m\n",
      "  \u001b[31m   \u001b[0m running bdist_wheel\n",
      "  \u001b[31m   \u001b[0m running build\n",
      "  \u001b[31m   \u001b[0m running build_py\n",
      "  \u001b[31m   \u001b[0m creating build\n",
      "  \u001b[31m   \u001b[0m creating build/lib.macosx-10.9-x86_64-3.9\n",
      "  \u001b[31m   \u001b[0m creating build/lib.macosx-10.9-x86_64-3.9/psycopg2\n",
      "  \u001b[31m   \u001b[0m copying lib/_json.py -> build/lib.macosx-10.9-x86_64-3.9/psycopg2\n",
      "  \u001b[31m   \u001b[0m copying lib/extras.py -> build/lib.macosx-10.9-x86_64-3.9/psycopg2\n",
      "  \u001b[31m   \u001b[0m copying lib/errorcodes.py -> build/lib.macosx-10.9-x86_64-3.9/psycopg2\n",
      "  \u001b[31m   \u001b[0m copying lib/tz.py -> build/lib.macosx-10.9-x86_64-3.9/psycopg2\n",
      "  \u001b[31m   \u001b[0m copying lib/_range.py -> build/lib.macosx-10.9-x86_64-3.9/psycopg2\n",
      "  \u001b[31m   \u001b[0m copying lib/_ipaddress.py -> build/lib.macosx-10.9-x86_64-3.9/psycopg2\n",
      "  \u001b[31m   \u001b[0m copying lib/__init__.py -> build/lib.macosx-10.9-x86_64-3.9/psycopg2\n",
      "  \u001b[31m   \u001b[0m copying lib/extensions.py -> build/lib.macosx-10.9-x86_64-3.9/psycopg2\n",
      "  \u001b[31m   \u001b[0m copying lib/errors.py -> build/lib.macosx-10.9-x86_64-3.9/psycopg2\n",
      "  \u001b[31m   \u001b[0m copying lib/sql.py -> build/lib.macosx-10.9-x86_64-3.9/psycopg2\n",
      "  \u001b[31m   \u001b[0m copying lib/pool.py -> build/lib.macosx-10.9-x86_64-3.9/psycopg2\n",
      "  \u001b[31m   \u001b[0m running build_ext\n",
      "  \u001b[31m   \u001b[0m creating build/temp.macosx-10.9-x86_64-3.9\n",
      "  \u001b[31m   \u001b[0m creating build/temp.macosx-10.9-x86_64-3.9/psycopg\n",
      "  \u001b[31m   \u001b[0m clang -Wno-unused-result -Wsign-compare -Wunreachable-code -DNDEBUG -fwrapv -O2 -Wall -fPIC -O2 -isystem /Users/arka_bagchi/opt/anaconda3/include -arch x86_64 -I/Users/arka_bagchi/opt/anaconda3/include -fPIC -O2 -isystem /Users/arka_bagchi/opt/anaconda3/include -arch x86_64 \"-DPSYCOPG_VERSION=2.9.9 (dt dec pq3 ext lo64)\" -DPSYCOPG_DEBUG=1 -DPG_VERSION_NUM=140009 -DHAVE_LO64=1 -DPSYCOPG_DEBUG=1 -I/Users/arka_bagchi/opt/anaconda3/include/python3.9 -I. -I/opt/homebrew/include/postgresql@14 -I/opt/homebrew/include/postgresql@14/server -I/opt/homebrew/Cellar/icu4c/73.2/include -I/opt/homebrew/opt/openssl@3/include -I/opt/homebrew/opt/readline/include -I/opt/homebrew/Cellar/lz4/1.9.4/include -c psycopg/adapter_asis.c -o build/temp.macosx-10.9-x86_64-3.9/psycopg/adapter_asis.o\n",
      "  \u001b[31m   \u001b[0m xcrun: error: invalid active developer path (/Library/Developer/CommandLineTools), missing xcrun at: /Library/Developer/CommandLineTools/usr/bin/xcrun\n",
      "  \u001b[31m   \u001b[0m \n",
      "  \u001b[31m   \u001b[0m It appears you are missing some prerequisite to build the package from source.\n",
      "  \u001b[31m   \u001b[0m \n",
      "  \u001b[31m   \u001b[0m You may install a binary package by installing 'psycopg2-binary' from PyPI.\n",
      "  \u001b[31m   \u001b[0m If you want to install psycopg2 from source, please install the packages\n",
      "  \u001b[31m   \u001b[0m required for the build and try again.\n",
      "  \u001b[31m   \u001b[0m \n",
      "  \u001b[31m   \u001b[0m For further information please check the 'doc/src/install.rst' file (also at\n",
      "  \u001b[31m   \u001b[0m <https://www.psycopg.org/docs/install.html>).\n",
      "  \u001b[31m   \u001b[0m \n",
      "  \u001b[31m   \u001b[0m error: command '/usr/bin/clang' failed with exit code 1\n",
      "  \u001b[31m   \u001b[0m \u001b[31m[end of output]\u001b[0m\n",
      "  \n",
      "  \u001b[1;35mnote\u001b[0m: This error originates from a subprocess, and is likely not a problem with pip.\n",
      "\u001b[31m  ERROR: Failed building wheel for psycopg2\u001b[0m\u001b[31m\n",
      "\u001b[0m\u001b[?25h  Running setup.py clean for psycopg2\n",
      "Failed to build psycopg2\n",
      "\u001b[31mERROR: Could not build wheels for psycopg2, which is required to install pyproject.toml-based projects\u001b[0m\u001b[31m\n",
      "\u001b[0m"
     ]
    }
   ],
   "source": [
    "!pip install psycopg2"
   ]
  },
  {
   "cell_type": "code",
   "execution_count": 2,
   "id": "c318bf7c",
   "metadata": {},
   "outputs": [
    {
     "name": "stdout",
     "output_type": "stream",
     "text": [
      "Collecting psycopg2-binary\n",
      "  Obtaining dependency information for psycopg2-binary from https://files.pythonhosted.org/packages/82/69/c25f8bd5c189cee89bc00e16b49a84f930b3b4c2cfec953a26c99076a586/psycopg2_binary-2.9.9-cp39-cp39-macosx_10_9_x86_64.whl.metadata\n",
      "  Downloading psycopg2_binary-2.9.9-cp39-cp39-macosx_10_9_x86_64.whl.metadata (4.4 kB)\n",
      "Downloading psycopg2_binary-2.9.9-cp39-cp39-macosx_10_9_x86_64.whl (2.8 MB)\n",
      "\u001b[2K   \u001b[90m━━━━━━━━━━━━━━━━━━━━━━━━━━━━━━━━━━━━━━━━\u001b[0m \u001b[32m2.8/2.8 MB\u001b[0m \u001b[31m2.2 MB/s\u001b[0m eta \u001b[36m0:00:00\u001b[0ma \u001b[36m0:00:01\u001b[0m0m\n",
      "\u001b[?25hInstalling collected packages: psycopg2-binary\n",
      "Successfully installed psycopg2-binary-2.9.9\n"
     ]
    }
   ],
   "source": [
    "!pip install psycopg2-binary "
   ]
  },
  {
   "cell_type": "code",
   "execution_count": 3,
   "id": "21b1d28d",
   "metadata": {},
   "outputs": [],
   "source": [
    "import psycopg2"
   ]
  },
  {
   "cell_type": "code",
   "execution_count": 5,
   "id": "a06e53a1",
   "metadata": {},
   "outputs": [],
   "source": [
    "import pandas as pd\n",
    "from sqlalchemy import create_engine "
   ]
  },
  {
   "cell_type": "code",
   "execution_count": 12,
   "id": "b12669c4",
   "metadata": {},
   "outputs": [],
   "source": [
    "conn_string = 'postgresql://arka_bagchi@localhost:5432/airdna'"
   ]
  },
  {
   "cell_type": "code",
   "execution_count": 13,
   "id": "5b826370",
   "metadata": {},
   "outputs": [],
   "source": [
    "db = create_engine(conn_string)\n",
    "conn = db.connect()"
   ]
  },
  {
   "cell_type": "code",
   "execution_count": 20,
   "id": "f647b6e5",
   "metadata": {},
   "outputs": [
    {
     "ename": "ParserError",
     "evalue": "Error tokenizing data. C error: EOF inside string starting at row 4288416",
     "output_type": "error",
     "traceback": [
      "\u001b[0;31m---------------------------------------------------------------------------\u001b[0m",
      "\u001b[0;31mParserError\u001b[0m                               Traceback (most recent call last)",
      "Cell \u001b[0;32mIn[20], line 2\u001b[0m\n\u001b[1;32m      1\u001b[0m file_path \u001b[38;5;241m=\u001b[39m \u001b[38;5;124m\"\u001b[39m\u001b[38;5;124m/Users/arka_bagchi/Desktop/AirDNA/Raw_data/cleaned_data_v2.tsv/airdna_postgresql.csv\u001b[39m\u001b[38;5;124m\"\u001b[39m\n\u001b[0;32m----> 2\u001b[0m df \u001b[38;5;241m=\u001b[39m \u001b[43mpd\u001b[49m\u001b[38;5;241;43m.\u001b[39;49m\u001b[43mread_csv\u001b[49m\u001b[43m(\u001b[49m\u001b[43mfile_path\u001b[49m\u001b[43m,\u001b[49m\u001b[43m \u001b[49m\u001b[43mdelimiter\u001b[49m\u001b[38;5;241;43m=\u001b[39;49m\u001b[38;5;124;43m'\u001b[39;49m\u001b[38;5;130;43;01m\\t\u001b[39;49;00m\u001b[38;5;124;43m'\u001b[39;49m\u001b[43m,\u001b[49m\u001b[43m \u001b[49m\u001b[43mon_bad_lines\u001b[49m\u001b[38;5;241;43m=\u001b[39;49m\u001b[38;5;124;43m'\u001b[39;49m\u001b[38;5;124;43mskip\u001b[39;49m\u001b[38;5;124;43m'\u001b[39;49m\u001b[43m)\u001b[49m\n",
      "File \u001b[0;32m~/opt/anaconda3/lib/python3.9/site-packages/pandas/io/parsers/readers.py:912\u001b[0m, in \u001b[0;36mread_csv\u001b[0;34m(filepath_or_buffer, sep, delimiter, header, names, index_col, usecols, dtype, engine, converters, true_values, false_values, skipinitialspace, skiprows, skipfooter, nrows, na_values, keep_default_na, na_filter, verbose, skip_blank_lines, parse_dates, infer_datetime_format, keep_date_col, date_parser, date_format, dayfirst, cache_dates, iterator, chunksize, compression, thousands, decimal, lineterminator, quotechar, quoting, doublequote, escapechar, comment, encoding, encoding_errors, dialect, on_bad_lines, delim_whitespace, low_memory, memory_map, float_precision, storage_options, dtype_backend)\u001b[0m\n\u001b[1;32m    899\u001b[0m kwds_defaults \u001b[38;5;241m=\u001b[39m _refine_defaults_read(\n\u001b[1;32m    900\u001b[0m     dialect,\n\u001b[1;32m    901\u001b[0m     delimiter,\n\u001b[0;32m   (...)\u001b[0m\n\u001b[1;32m    908\u001b[0m     dtype_backend\u001b[38;5;241m=\u001b[39mdtype_backend,\n\u001b[1;32m    909\u001b[0m )\n\u001b[1;32m    910\u001b[0m kwds\u001b[38;5;241m.\u001b[39mupdate(kwds_defaults)\n\u001b[0;32m--> 912\u001b[0m \u001b[38;5;28;01mreturn\u001b[39;00m \u001b[43m_read\u001b[49m\u001b[43m(\u001b[49m\u001b[43mfilepath_or_buffer\u001b[49m\u001b[43m,\u001b[49m\u001b[43m \u001b[49m\u001b[43mkwds\u001b[49m\u001b[43m)\u001b[49m\n",
      "File \u001b[0;32m~/opt/anaconda3/lib/python3.9/site-packages/pandas/io/parsers/readers.py:583\u001b[0m, in \u001b[0;36m_read\u001b[0;34m(filepath_or_buffer, kwds)\u001b[0m\n\u001b[1;32m    580\u001b[0m     \u001b[38;5;28;01mreturn\u001b[39;00m parser\n\u001b[1;32m    582\u001b[0m \u001b[38;5;28;01mwith\u001b[39;00m parser:\n\u001b[0;32m--> 583\u001b[0m     \u001b[38;5;28;01mreturn\u001b[39;00m \u001b[43mparser\u001b[49m\u001b[38;5;241;43m.\u001b[39;49m\u001b[43mread\u001b[49m\u001b[43m(\u001b[49m\u001b[43mnrows\u001b[49m\u001b[43m)\u001b[49m\n",
      "File \u001b[0;32m~/opt/anaconda3/lib/python3.9/site-packages/pandas/io/parsers/readers.py:1704\u001b[0m, in \u001b[0;36mTextFileReader.read\u001b[0;34m(self, nrows)\u001b[0m\n\u001b[1;32m   1697\u001b[0m nrows \u001b[38;5;241m=\u001b[39m validate_integer(\u001b[38;5;124m\"\u001b[39m\u001b[38;5;124mnrows\u001b[39m\u001b[38;5;124m\"\u001b[39m, nrows)\n\u001b[1;32m   1698\u001b[0m \u001b[38;5;28;01mtry\u001b[39;00m:\n\u001b[1;32m   1699\u001b[0m     \u001b[38;5;66;03m# error: \"ParserBase\" has no attribute \"read\"\u001b[39;00m\n\u001b[1;32m   1700\u001b[0m     (\n\u001b[1;32m   1701\u001b[0m         index,\n\u001b[1;32m   1702\u001b[0m         columns,\n\u001b[1;32m   1703\u001b[0m         col_dict,\n\u001b[0;32m-> 1704\u001b[0m     ) \u001b[38;5;241m=\u001b[39m \u001b[38;5;28;43mself\u001b[39;49m\u001b[38;5;241;43m.\u001b[39;49m\u001b[43m_engine\u001b[49m\u001b[38;5;241;43m.\u001b[39;49m\u001b[43mread\u001b[49m\u001b[43m(\u001b[49m\u001b[43m  \u001b[49m\u001b[38;5;66;43;03m# type: ignore[attr-defined]\u001b[39;49;00m\n\u001b[1;32m   1705\u001b[0m \u001b[43m        \u001b[49m\u001b[43mnrows\u001b[49m\n\u001b[1;32m   1706\u001b[0m \u001b[43m    \u001b[49m\u001b[43m)\u001b[49m\n\u001b[1;32m   1707\u001b[0m \u001b[38;5;28;01mexcept\u001b[39;00m \u001b[38;5;167;01mException\u001b[39;00m:\n\u001b[1;32m   1708\u001b[0m     \u001b[38;5;28mself\u001b[39m\u001b[38;5;241m.\u001b[39mclose()\n",
      "File \u001b[0;32m~/opt/anaconda3/lib/python3.9/site-packages/pandas/io/parsers/c_parser_wrapper.py:234\u001b[0m, in \u001b[0;36mCParserWrapper.read\u001b[0;34m(self, nrows)\u001b[0m\n\u001b[1;32m    232\u001b[0m \u001b[38;5;28;01mtry\u001b[39;00m:\n\u001b[1;32m    233\u001b[0m     \u001b[38;5;28;01mif\u001b[39;00m \u001b[38;5;28mself\u001b[39m\u001b[38;5;241m.\u001b[39mlow_memory:\n\u001b[0;32m--> 234\u001b[0m         chunks \u001b[38;5;241m=\u001b[39m \u001b[38;5;28;43mself\u001b[39;49m\u001b[38;5;241;43m.\u001b[39;49m\u001b[43m_reader\u001b[49m\u001b[38;5;241;43m.\u001b[39;49m\u001b[43mread_low_memory\u001b[49m\u001b[43m(\u001b[49m\u001b[43mnrows\u001b[49m\u001b[43m)\u001b[49m\n\u001b[1;32m    235\u001b[0m         \u001b[38;5;66;03m# destructive to chunks\u001b[39;00m\n\u001b[1;32m    236\u001b[0m         data \u001b[38;5;241m=\u001b[39m _concatenate_chunks(chunks)\n",
      "File \u001b[0;32m~/opt/anaconda3/lib/python3.9/site-packages/pandas/_libs/parsers.pyx:814\u001b[0m, in \u001b[0;36mpandas._libs.parsers.TextReader.read_low_memory\u001b[0;34m()\u001b[0m\n",
      "File \u001b[0;32m~/opt/anaconda3/lib/python3.9/site-packages/pandas/_libs/parsers.pyx:875\u001b[0m, in \u001b[0;36mpandas._libs.parsers.TextReader._read_rows\u001b[0;34m()\u001b[0m\n",
      "File \u001b[0;32m~/opt/anaconda3/lib/python3.9/site-packages/pandas/_libs/parsers.pyx:850\u001b[0m, in \u001b[0;36mpandas._libs.parsers.TextReader._tokenize_rows\u001b[0;34m()\u001b[0m\n",
      "File \u001b[0;32m~/opt/anaconda3/lib/python3.9/site-packages/pandas/_libs/parsers.pyx:861\u001b[0m, in \u001b[0;36mpandas._libs.parsers.TextReader._check_tokenize_status\u001b[0;34m()\u001b[0m\n",
      "File \u001b[0;32m~/opt/anaconda3/lib/python3.9/site-packages/pandas/_libs/parsers.pyx:2029\u001b[0m, in \u001b[0;36mpandas._libs.parsers.raise_parser_error\u001b[0;34m()\u001b[0m\n",
      "\u001b[0;31mParserError\u001b[0m: Error tokenizing data. C error: EOF inside string starting at row 4288416"
     ]
    }
   ],
   "source": [
    "file_path = \"/Users/arka_bagchi/Desktop/AirDNA/Raw_data/cleaned_data_v2.tsv/airdna_postgresql.csv\"\n",
    "df = pd.read_csv(file_path, delimiter='\\t', on_bad_lines='skip')"
   ]
  },
  {
   "cell_type": "code",
   "execution_count": null,
   "id": "1cd9be60",
   "metadata": {},
   "outputs": [],
   "source": []
  }
 ],
 "metadata": {
  "kernelspec": {
   "display_name": "Python 3 (ipykernel)",
   "language": "python",
   "name": "python3"
  },
  "language_info": {
   "codemirror_mode": {
    "name": "ipython",
    "version": 3
   },
   "file_extension": ".py",
   "mimetype": "text/x-python",
   "name": "python",
   "nbconvert_exporter": "python",
   "pygments_lexer": "ipython3",
   "version": "3.9.18"
  }
 },
 "nbformat": 4,
 "nbformat_minor": 5
}
