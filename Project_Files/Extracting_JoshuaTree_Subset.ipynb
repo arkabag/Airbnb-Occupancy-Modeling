{
 "cells": [
  {
   "cell_type": "code",
   "execution_count": 1,
   "id": "e3e08569",
   "metadata": {},
   "outputs": [
    {
     "name": "stderr",
     "output_type": "stream",
     "text": [
      "Setting default log level to \"WARN\".\n",
      "To adjust logging level use sc.setLogLevel(newLevel). For SparkR, use setLogLevel(newLevel).\n",
      "23/10/13 11:13:53 WARN NativeCodeLoader: Unable to load native-hadoop library for your platform... using builtin-java classes where applicable\n",
      "                                                                                \r"
     ]
    },
    {
     "name": "stdout",
     "output_type": "stream",
     "text": [
      "+---+-------+\n",
      "| id|message|\n",
      "+---+-------+\n",
      "|  1|  Hello|\n",
      "|  2|  World|\n",
      "+---+-------+\n",
      "\n"
     ]
    }
   ],
   "source": [
    "from pyspark.sql import SparkSession\n",
    "\n",
    "# Initialize a Spark session\n",
    "spark = SparkSession.builder.appName(\"MySparkApp\").getOrCreate()\n",
    "\n",
    "# Test the Spark session\n",
    "df = spark.createDataFrame([(1, \"Hello\"), (2, \"World\")], [\"id\", \"message\"])\n",
    "df.show()\n",
    "\n"
   ]
  },
  {
   "cell_type": "code",
   "execution_count": 2,
   "id": "cf0db71d",
   "metadata": {
    "scrolled": false
   },
   "outputs": [
    {
     "name": "stderr",
     "output_type": "stream",
     "text": [
      "23/10/13 11:16:03 WARN SparkSession: Using an existing Spark session; only runtime SQL configurations will take effect.\n",
      "                                                                                \r"
     ]
    },
    {
     "name": "stdout",
     "output_type": "stream",
     "text": [
      "root\n",
      " |-- VRBO Host ID: string (nullable = true)\n",
      " |-- Security Deposit: string (nullable = true)\n",
      " |-- Longitude: double (nullable = true)\n",
      " |-- Listing Title: string (nullable = true)\n",
      " |-- Has Parking: string (nullable = true)\n",
      " |-- Cancellation Policy: string (nullable = true)\n",
      " |-- Airbnb Communication Rating: string (nullable = true)\n",
      " |-- Revenue Potential LTM: string (nullable = true)\n",
      " |-- Property Type: string (nullable = true)\n",
      " |-- Listing Images: string (nullable = true)\n",
      " |-- Last Calendar Update: string (nullable = true)\n",
      " |-- Has Hot Tub: string (nullable = true)\n",
      " |-- Country: string (nullable = true)\n",
      " |-- City: string (nullable = true)\n",
      " |-- Bedrooms: double (nullable = true)\n",
      " |-- Airbnb Accuracy Rating: integer (nullable = true)\n",
      " |-- Published Weekly Rate: integer (nullable = true)\n",
      " |-- Neighborhood: string (nullable = true)\n",
      " |-- Airbnb Location Rating: string (nullable = true)\n",
      " |-- AirDNA Market: string (nullable = true)\n",
      " |-- ADR: string (nullable = true)\n",
      " |-- VRBO Property ID: string (nullable = true)\n",
      " |-- Response Rate: string (nullable = true)\n",
      " |-- Published Monthly Rate: string (nullable = true)\n",
      " |-- Pets Allowed: string (nullable = true)\n",
      " |-- Occupancy Rate LTM: string (nullable = true)\n",
      " |-- Max Guests: string (nullable = true)\n",
      " |-- Listing Type: string (nullable = true)\n",
      " |-- Host Type: string (nullable = true)\n",
      " |-- Has Pool: string (nullable = true)\n",
      " |-- Created Date: string (nullable = true)\n",
      " |-- Bathrooms: string (nullable = true)\n",
      " |-- Property ID: string (nullable = true)\n",
      " |-- Overall Rating: string (nullable = true)\n",
      " |-- Minimum Stay: string (nullable = true)\n",
      " |-- Location Type: string (nullable = true)\n",
      " |-- License: string (nullable = true)\n",
      " |-- Exact Location: string (nullable = true)\n",
      " |-- Cleaning Fee: string (nullable = true)\n",
      " |-- Price Tier: string (nullable = true)\n",
      " |-- Listing URL: string (nullable = true)\n",
      " |-- Has Kitchen: boolean (nullable = true)\n",
      " |-- Currency: string (nullable = true)\n",
      " |-- Count Reservation Days LTM: integer (nullable = true)\n",
      " |-- Airbnb Checkin Rating: double (nullable = true)\n",
      " |-- Response Time: double (nullable = true)\n",
      " |-- Property Manager: string (nullable = true)\n",
      " |-- Number of Reviews: integer (nullable = true)\n",
      " |-- Number of Photos: double (nullable = true)\n",
      " |-- Number of Bookings LTM: string (nullable = true)\n",
      " |-- Latitude: string (nullable = true)\n",
      " |-- Extra People Fee: integer (nullable = true)\n",
      " |-- Count Blocked Days LTM: integer (nullable = true)\n",
      " |-- Count Available Days LTM: string (nullable = true)\n",
      " |-- Zipcode: string (nullable = true)\n",
      " |-- State: string (nullable = true)\n",
      " |-- Amenities: string (nullable = true)\n",
      " |-- AirDNA Submarket: string (nullable = true)\n",
      " |-- Revenue LTM: string (nullable = true)\n",
      " |-- Has Air Con: string (nullable = true)\n",
      " |-- Airbnb Value Rating: string (nullable = true)\n",
      " |-- Published Nightly Rate: string (nullable = true)\n",
      " |-- Listing Main Image URL: string (nullable = true)\n",
      " |-- Last Scraped Date: string (nullable = true)\n",
      " |-- Metropolitan Statistical Area: string (nullable = true)\n",
      " |-- Has Gym: string (nullable = true)\n",
      " |-- Airbnb Superhost: boolean (nullable = true)\n",
      " |-- Real Estate Property Type: string (nullable = true)\n",
      " |-- Instantbook: string (nullable = true)\n",
      " |-- Airbnb Property ID: long (nullable = true)\n",
      " |-- Airbnb HOST ID: integer (nullable = true)\n",
      " |-- Airbnb Cleanliness Rating: integer (nullable = true)\n",
      "\n"
     ]
    },
    {
     "name": "stderr",
     "output_type": "stream",
     "text": [
      "23/10/13 11:17:34 WARN SparkStringUtils: Truncated the string representation of a plan since it was too large. This behavior can be adjusted by setting 'spark.sql.debug.maxToStringFields'.\n"
     ]
    },
    {
     "name": "stdout",
     "output_type": "stream",
     "text": [
      "+------------+----------------+---------------+--------------------+-----------+-------------------+---------------------------+---------------------+-------------------+--------------------+--------------------+-----------+-------------+-------------+--------+----------------------+---------------------+------------+----------------------+-----------------+------+----------------+-------------+----------------------+------------+------------------+----------+---------------+---------+--------+------------+---------+-------------+--------------+------------+--------------------+-------+--------------+------------+----------+--------------------+-----------+--------+--------------------------+---------------------+-------------+----------------+-----------------+----------------+----------------------+-------------+----------------+----------------------+------------------------+-------+----------+--------------------+----------------+-----------+-----------+-------------------+----------------------+----------------------+-------------------+-----------------------------+-------+----------------+-------------------------+-----------+------------------+--------------+-------------------------+\n",
      "|VRBO Host ID|Security Deposit|      Longitude|       Listing Title|Has Parking|Cancellation Policy|Airbnb Communication Rating|Revenue Potential LTM|      Property Type|      Listing Images|Last Calendar Update|Has Hot Tub|      Country|         City|Bedrooms|Airbnb Accuracy Rating|Published Weekly Rate|Neighborhood|Airbnb Location Rating|    AirDNA Market|   ADR|VRBO Property ID|Response Rate|Published Monthly Rate|Pets Allowed|Occupancy Rate LTM|Max Guests|   Listing Type|Host Type|Has Pool|Created Date|Bathrooms|  Property ID|Overall Rating|Minimum Stay|       Location Type|License|Exact Location|Cleaning Fee|Price Tier|         Listing URL|Has Kitchen|Currency|Count Reservation Days LTM|Airbnb Checkin Rating|Response Time|Property Manager|Number of Reviews|Number of Photos|Number of Bookings LTM|     Latitude|Extra People Fee|Count Blocked Days LTM|Count Available Days LTM|Zipcode|     State|           Amenities|AirDNA Submarket|Revenue LTM|Has Air Con|Airbnb Value Rating|Published Nightly Rate|Listing Main Image URL|  Last Scraped Date|Metropolitan Statistical Area|Has Gym|Airbnb Superhost|Real Estate Property Type|Instantbook|Airbnb Property ID|Airbnb HOST ID|Airbnb Cleanliness Rating|\n",
      "+------------+----------------+---------------+--------------------+-----------+-------------------+---------------------------+---------------------+-------------------+--------------------+--------------------+-----------+-------------+-------------+--------+----------------------+---------------------+------------+----------------------+-----------------+------+----------------+-------------+----------------------+------------+------------------+----------+---------------+---------+--------+------------+---------+-------------+--------------+------------+--------------------+-------+--------------+------------+----------+--------------------+-----------+--------+--------------------------+---------------------+-------------+----------------+-----------------+----------------+----------------------+-------------+----------------+----------------------+------------------------+-------+----------+--------------------+----------------+-----------+-----------+-------------------+----------------------+----------------------+-------------------+-----------------------------+-------+----------------+-------------------------+-----------+------------------+--------------+-------------------------+\n",
      "|        NULL|            1000|      -80.21537|5 Bdrm House Clos...|       true|             strict|                         10|              32340.0|              House|\"[\"\"https://a0.mu...| 2023-07-30 21:53:44|      false|United States|        Miami|     5.0|                    10|                 2093|   Coral Way|                    10|        MIAMI, FL|536.79|       7863000ha|          100|                  8372|       false|          0.273885|        10|Entire home/apt|2-5 Units|   false|  2015-12-14|      2.0|abnb_10000216|          NULL|           4|  Large City - Urban|   NULL|          NULL|         249|   economy|https://www.airbn...|       true|     usd|                        43|                 10.0|        117.5|            NULL|               86|            20.0|                     7|      25.7651|               0|                    46|                     114|  33135|   Florida|\"[\"\"free_parking\"...|            NULL|    23082.0|       true|                  9|                   425|  https://a0.muscac...|2023-07-30 14:53:44|         Miami-Fort Lauder...|  false|           false|              House/villa|      false|          10000216|      49633363|                        9|\n",
      "|        NULL|             200|     -122.34761|Queen Anne Doll H...|      false|           flexible|                          9|                 NULL|          Apartment|\"[\"\"https://a0.mu...| 2021-01-09 22:25:20|      false|United States|      Seattle|     2.0|                    10|                 1750|  Queen Anne|                    10|      SEATTLE, WA|  NULL|            NULL|          100|                  7000|       false|              NULL|         5|Entire home/apt|2-5 Units|   false|  2015-12-14|      2.0|abnb_10000273|          97.0|         180|  Large City - Urban|   NULL|          NULL|          75|   economy|https://www.airbn...|       true|     usd|                      NULL|                 10.0|       1054.5|            NULL|                8|            23.0|                  NULL|     47.62556|               0|                  NULL|                    NULL|  98109|Washington|\"[\"\"elevator\"\",\"\"...|            NULL|       NULL|      false|                  9|                   125|  https://a0.muscac...|2021-01-09 22:25:20|         Seattle-Tacoma-Be...|  false|            NULL|           Apt/Condo/Loft|       true|          10000273|      51372899|                       10|\n",
      "|        NULL|             100|      -122.4409|Cozy Private Room...|      false|             strict|                         10|              23409.0|Condominium (condo)|\"[\"\"https://a0.mu...| 2023-07-30 08:10:23|      false|United States|San Francisco|     1.0|                    10|                  525|  The Castro|                    10|SAN FRANCISCO, CA|150.38|            NULL|          100|                  2100|        true|          0.521739|         1|   Private room|2-5 Units|   false|  2015-12-14|      1.0|abnb_10000523|          97.0|          30|  Large City - Urban|   NULL|          NULL|         200|  midscale|https://www.airbn...|       true|     usd|                        24|                 10.0|      14141.0|            NULL|               19|            40.0|                     7|     37.75709|              25|                   255|                      22|  94114|California|\"[\"\"kitchen\"\",\"\"w...|            NULL|     3609.0|      false|                  9|                   115|  https://a0.muscac...|2023-08-03 08:05:46|         San Francisco-Oak...|  false|           false|           Apt/Condo/Loft|      false|          10000523|      42786654|                       10|\n",
      "|        NULL|            NULL|-121.9054145417|Zigzag Mt. Hideaw...|       true|           flexible|                         10|                 NULL|              House|\"[\"\"https://a0.mu...| 2018-11-24 13:37:15|      false|United States| Rhododendron|     1.0|                    10|                  175|        NULL|                    10|      OREGON AREA|  NULL|            NULL|          100|                   700|       false|              NULL|         1|    Shared room|21+ Units|   false|  2015-12-14|      1.0|abnb_10000550|          96.0|           1|Destination/Resor...|   NULL|          NULL|        NULL|    budget|https://www.airbn...|       true|     usd|                      NULL|                 10.0|        404.0|            NULL|               31|             9.0|                  NULL|45.3249452151|               0|                  NULL|                    NULL|  97049|    Oregon|\"[\"\"fireplace\"\",\"...|            NULL|       NULL|      false|                 10|                    25|  https://a0.muscac...|2018-11-24 13:37:15|         Portland-Vancouve...|  false|            NULL|              House/villa|      false|          10000550|      41114629|                       10|\n",
      "|        NULL|            NULL| -84.3839370059|Walk Midtown | He...|       true|               NULL|                         10|                 NULL|Condominium (condo)|\"[\"\"https://a0.mu...| 2018-07-10 05:16:08|      false|United States|      Atlanta|     1.0|                     8|                 2100|     Midtown|                    10|      ATLANTA, GA|  NULL|            NULL|           80|                  8400|        true|              NULL|         2|   Private room|21+ Units|   false|  2015-12-14|      1.5|abnb_10000707|          87.0|           1|  Large City - Urban|   NULL|          NULL|         100|    luxury|https://www.airbn...|       true|     usd|                      NULL|                 10.0|       4778.0|         StayATL|               21|            10.0|                  NULL| 33.778656074|              50|                  NULL|                    NULL|  30309|   Georgia|\"[\"\"kitchen\"\",\"\"f...|            NULL|       NULL|       true|                  9|                   400|  https://a0.muscac...|2018-07-10 05:16:08|         Atlanta-Sandy Spr...|  false|            NULL|           Apt/Condo/Loft|      false|          10000707|       4610788|                        8|\n",
      "+------------+----------------+---------------+--------------------+-----------+-------------------+---------------------------+---------------------+-------------------+--------------------+--------------------+-----------+-------------+-------------+--------+----------------------+---------------------+------------+----------------------+-----------------+------+----------------+-------------+----------------------+------------+------------------+----------+---------------+---------+--------+------------+---------+-------------+--------------+------------+--------------------+-------+--------------+------------+----------+--------------------+-----------+--------+--------------------------+---------------------+-------------+----------------+-----------------+----------------+----------------------+-------------+----------------+----------------------+------------------------+-------+----------+--------------------+----------------+-----------+-----------+-------------------+----------------------+----------------------+-------------------+-----------------------------+-------+----------------+-------------------------+-----------+------------------+--------------+-------------------------+\n",
      "only showing top 5 rows\n",
      "\n"
     ]
    }
   ],
   "source": [
    "from pyspark.sql import SparkSession\n",
    "\n",
    "# Create a Spark session\n",
    "spark = SparkSession.builder.appName(\"ReadTSV\").getOrCreate()\n",
    "\n",
    "# Read the TSV file from Gzip\n",
    "df = spark.read.option(\"delimiter\", \"\\t\").csv(\"file:///Users/arka_bagchi/Desktop/AirDNA/Raw_data/Large_AirDNA_Dataset.tsv.gz\", header=True, inferSchema=True)\n",
    "\n",
    "# Show the DataFrame schema and some sample data\n",
    "df.printSchema()\n",
    "df.show(5)\n"
   ]
  },
  {
   "cell_type": "code",
   "execution_count": 3,
   "id": "473da710",
   "metadata": {},
   "outputs": [],
   "source": [
    "from pyspark.sql.functions import col\n",
    "\n",
    "# List of ZIP codes for Joshua Tree region\n",
    "joshua_tree_zips = [\"92252\", \"92286\", \"92284\", \"92268\", \"92240\", \"92256\", \"92276\", \"92241\", \"92285\", \"92258\", \"92234\", \"92270\", \"92211\", \"92282\"]\n",
    "\n",
    "# Filter data for Joshua Tree region\n",
    "filtered_df = df.filter(col(\"Zipcode\").isin(joshua_tree_zips))\n",
    "\n",
    "# Drop unwanted columns\n",
    "columns_to_drop = [\"VRBO Host ID\", \"Security Deposit\", \"Listing Title\", \"Cancellation Policy\", \"Last Calendar Update\", \"AirDNA Market\", \"VRBO Property ID\", \"License\", \"Listing URL\", \"Response Time\", \"Property Manager\", \"Amenities\", \"Listing Main Image URL\", \"Airbnb Property ID\", \"Airbnb HOST ID\", \"AirDNA Submarket\"]\n",
    "filtered_df = filtered_df.drop(*columns_to_drop)\n"
   ]
  },
  {
   "cell_type": "code",
   "execution_count": 4,
   "id": "66449d0f",
   "metadata": {},
   "outputs": [
    {
     "name": "stderr",
     "output_type": "stream",
     "text": [
      "                                                                                \r"
     ]
    }
   ],
   "source": [
    "filtered_df.write.option(\"delimiter\", \"\\t\").csv(\"filtered_data.tsv\", header=True, mode=\"overwrite\")\n"
   ]
  },
  {
   "cell_type": "code",
   "execution_count": null,
   "id": "650edfd5",
   "metadata": {},
   "outputs": [],
   "source": [
    " "
   ]
  }
 ],
 "metadata": {
  "kernelspec": {
   "display_name": "Python 3 (ipykernel)",
   "language": "python",
   "name": "python3"
  },
  "language_info": {
   "codemirror_mode": {
    "name": "ipython",
    "version": 3
   },
   "file_extension": ".py",
   "mimetype": "text/x-python",
   "name": "python",
   "nbconvert_exporter": "python",
   "pygments_lexer": "ipython3",
   "version": "3.9.18"
  }
 },
 "nbformat": 4,
 "nbformat_minor": 5
}
